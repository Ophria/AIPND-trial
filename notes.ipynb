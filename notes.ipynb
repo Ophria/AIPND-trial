{
 "cells": [
  {
   "cell_type": "markdown",
   "metadata": {},
   "source": [
    "#   人工智能编程基础（试学班）\n",
    "##   相关知识点汇总\n",
    "###   数据类型与运算符\n",
    "####   基本数据类型"
   ]
  },
  {
   "cell_type": "code",
   "execution_count": 7,
   "metadata": {},
   "outputs": [
    {
     "name": "stdout",
     "output_type": "stream",
     "text": [
      "int_val = 3\n",
      "float_val = 1.2\n",
      "str_val = hello\n",
      "bool_val = True\n"
     ]
    }
   ],
   "source": [
    "# 整形\n",
    "int_val = 3\n",
    "\n",
    "# 浮点型\n",
    "float_val = 1.2\n",
    "\n",
    "# 字符串\n",
    "str_val = 'hello'\n",
    "\n",
    "# 布尔型\n",
    "bool_val = True\n",
    "\n",
    "# 输出\n",
    "print('int_val = {}'.format(int_val))\n",
    "print('float_val = {}'.format(float_val))\n",
    "print('str_val = {}'.format(str_val))\n",
    "print('bool_val = {}'.format(bool_val))"
   ]
  },
  {
   "cell_type": "markdown",
   "metadata": {},
   "source": [
    "####  算数运算符"
   ]
  },
  {
   "cell_type": "code",
   "execution_count": 6,
   "metadata": {},
   "outputs": [
    {
     "name": "stdout",
     "output_type": "stream",
     "text": [
      "7\n",
      "3\n",
      "10\n",
      "2\n",
      "2.5\n",
      "1\n",
      "25\n"
     ]
    }
   ],
   "source": [
    "int_val1 = 5\n",
    "int_val2 = 2\n",
    "\n",
    "# 加\n",
    "print(int_val1 + int_val2)\n",
    "\n",
    "# 减\n",
    "print(int_val1 - int_val2)\n",
    "\n",
    "# 乘\n",
    "print(int_val1 * int_val2)\n",
    "\n",
    "# 整除\n",
    "print(int_val1 // int_val2)\n",
    "\n",
    "# 除\n",
    "print(int_val1 / int_val2)\n",
    "\n",
    "# 取余\n",
    "print(int_val1 % int_val2)\n",
    "\n",
    "# 取幂\n",
    "print(int_val1 ** int_val2)"
   ]
  },
  {
   "cell_type": "markdown",
   "metadata": {},
   "source": [
    "####   比较"
   ]
  },
  {
   "cell_type": "code",
   "execution_count": 1,
   "metadata": {},
   "outputs": [
    {
     "name": "stdout",
     "output_type": "stream",
     "text": [
      "int_val1 == 99: True\n",
      "int_val1 == float_val1: True\n",
      "int_val1 == str_val1: False\n"
     ]
    }
   ],
   "source": [
    "int_val1 = 99\n",
    "float_val1 = 99.0\n",
    "str_val1 = '99'\n",
    "\n",
    "# 整形比较\n",
    "if int_val1 == 99:\n",
    "    print('int_val1 == 99: {}'.format(True))\n",
    "    \n",
    "else:\n",
    "    print('int_val1 == 99: {}'.format(False))\n",
    "    \n",
    "# 整形与浮点型比较\n",
    "if int_val1 == float_val1:\n",
    "    print('int_val1 == float_val1: {}'.format(True))\n",
    "    \n",
    "else:\n",
    "    print('int_val1 == float_val1: {}'.format(False))\n",
    "    \n",
    "# 整形与字符串比较\n",
    "if int_val1 == str_val1:\n",
    "    print('int_val1 == str_val1: {}'.format(True))\n",
    "    \n",
    "else:\n",
    "    print('int_val1 == str_val1: {}'.format(False))\n",
    "    "
   ]
  },
  {
   "cell_type": "markdown",
   "metadata": {},
   "source": [
    "####   列表, 元组, 集合, 字典\n",
    "-   列表: 可变, 无序, 通过索引访问元素.\n",
    "-   元祖: 不可变, 有序, 通过索引访问元素.\n",
    "-   集合: 可变, 无序, 通过索引访问, 主要用于列表去重排序.\n",
    "-   字典: 可变, 无序, 通过key(键)访问, 主要用于唯一键到值的映射."
   ]
  },
  {
   "cell_type": "code",
   "execution_count": 6,
   "metadata": {},
   "outputs": [
    {
     "name": "stdout",
     "output_type": "stream",
     "text": [
      "[77, 1, 9]\n",
      "(5, 2, 7)\n",
      "{0, 3, 7}\n",
      "{'key3': 'val3', 'key2': 'val2', 'key1': 'val1'}\n"
     ]
    }
   ],
   "source": [
    "# 列表\n",
    "list1 = [3, 1, 9]\n",
    "\n",
    "# 元祖\n",
    "tuple1 = (5, 2, 7)\n",
    "\n",
    "# 集合\n",
    "set1 = set([3, 7, 0])\n",
    "\n",
    "# 字典\n",
    "dict1 = {\n",
    "    'key1': 'val1',\n",
    "    'key2': 'val2'\n",
    "}\n",
    "\n",
    "list1[0] = 77\n",
    "# tuple1[0] = 4\n",
    "set1.add(3)\n",
    "dict1['key3'] = 'val3'\n",
    "\n",
    "# 输出\n",
    "print(list1)\n",
    "print(tuple1)\n",
    "print(set1)\n",
    "print(dict1)"
   ]
  },
  {
   "cell_type": "markdown",
   "metadata": {},
   "source": [
    "###   控制流\n",
    "####   if...elif...else..."
   ]
  },
  {
   "cell_type": "code",
   "execution_count": 7,
   "metadata": {},
   "outputs": [
    {
     "name": "stdout",
     "output_type": "stream",
     "text": [
      "abc True\n"
     ]
    }
   ],
   "source": [
    "input_val = 'abc'\n",
    "if input_val == 'a':\n",
    "    print('a True')\n",
    "    \n",
    "elif input_val == 'abc':\n",
    "    print('abc True')\n",
    "    \n",
    "else:\n",
    "    print('unknown')"
   ]
  },
  {
   "cell_type": "markdown",
   "metadata": {},
   "source": [
    "####   for"
   ]
  },
  {
   "cell_type": "code",
   "execution_count": 10,
   "metadata": {},
   "outputs": [
    {
     "name": "stdout",
     "output_type": "stream",
     "text": [
      "1\n",
      "3\n",
      "6\n",
      "8\n",
      "39\n"
     ]
    }
   ],
   "source": [
    "list_val = [1, 3, 6, 8, 39]\n",
    "for x in list_val:\n",
    "    print(x)\n",
    "    \n",
    "# for i in range(len(list_val)):\n",
    "    # print(list_val[i])"
   ]
  },
  {
   "cell_type": "markdown",
   "metadata": {},
   "source": [
    "####   while"
   ]
  },
  {
   "cell_type": "code",
   "execution_count": 11,
   "metadata": {},
   "outputs": [
    {
     "name": "stdout",
     "output_type": "stream",
     "text": [
      "0\n",
      "1\n",
      "2\n",
      "3\n",
      "4\n"
     ]
    }
   ],
   "source": [
    "i = 0\n",
    "while i < 5:\n",
    "    print(i)\n",
    "    i += 1"
   ]
  },
  {
   "cell_type": "markdown",
   "metadata": {},
   "source": [
    "####   break, continue"
   ]
  },
  {
   "cell_type": "code",
   "execution_count": 16,
   "metadata": {},
   "outputs": [
    {
     "name": "stdout",
     "output_type": "stream",
     "text": [
      "0\n",
      "1\n"
     ]
    }
   ],
   "source": [
    "i = 0\n",
    "while i < 5:\n",
    "    if i < 2:\n",
    "        print(i)\n",
    "        i += 1\n",
    "        continue\n",
    "        \n",
    "    else:\n",
    "        break"
   ]
  },
  {
   "cell_type": "markdown",
   "metadata": {},
   "source": [
    "####   zip"
   ]
  },
  {
   "cell_type": "code",
   "execution_count": 19,
   "metadata": {},
   "outputs": [
    {
     "name": "stdout",
     "output_type": "stream",
     "text": [
      "(1, 4)\n",
      "(2, 5)\n",
      "(3, 6)\n"
     ]
    }
   ],
   "source": [
    "list1 = [1, 2, 3]\n",
    "list2 = [4, 5, 6]\n",
    "for x in zip(list1, list2):\n",
    "    print(x)"
   ]
  },
  {
   "cell_type": "markdown",
   "metadata": {},
   "source": [
    "####   enumerate"
   ]
  },
  {
   "cell_type": "code",
   "execution_count": 20,
   "metadata": {},
   "outputs": [
    {
     "name": "stdout",
     "output_type": "stream",
     "text": [
      "Index = 0\tVal = hello\n",
      "Index = 1\tVal = world\n",
      "Index = 2\tVal = !\n"
     ]
    }
   ],
   "source": [
    "list1 = ['hello', 'world', '!']\n",
    "for index, val in enumerate(list1):\n",
    "    print('Index = {}\\tVal = {}'.format(index, val))"
   ]
  },
  {
   "cell_type": "markdown",
   "metadata": {},
   "source": [
    "####   列表推导式"
   ]
  },
  {
   "cell_type": "code",
   "execution_count": 24,
   "metadata": {},
   "outputs": [
    {
     "name": "stdout",
     "output_type": "stream",
     "text": [
      "['aa']\n"
     ]
    }
   ],
   "source": [
    "list1 = ['a', 'b', 'c']\n",
    "print([ x*2 for x in list1 if x == 'a' ])"
   ]
  },
  {
   "cell_type": "code",
   "execution_count": null,
   "metadata": {},
   "outputs": [],
   "source": []
  }
 ],
 "metadata": {
  "kernelspec": {
   "display_name": "Python 3",
   "language": "python",
   "name": "python3"
  },
  "language_info": {
   "codemirror_mode": {
    "name": "ipython",
    "version": 3
   },
   "file_extension": ".py",
   "mimetype": "text/x-python",
   "name": "python",
   "nbconvert_exporter": "python",
   "pygments_lexer": "ipython3",
   "version": "3.4.8"
  }
 },
 "nbformat": 4,
 "nbformat_minor": 2
}
