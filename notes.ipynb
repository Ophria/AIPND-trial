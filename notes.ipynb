{
 "cells": [
  {
   "cell_type": "markdown",
   "metadata": {},
   "source": [
    "#   人工智能编程基础（试学班）\n",
    "##   相关知识点汇总\n",
    "###   数据类型与运算符\n",
    "####   基本数据类型"
   ]
  },
  {
   "cell_type": "code",
   "execution_count": 4,
   "metadata": {},
   "outputs": [
    {
     "name": "stdout",
     "output_type": "stream",
     "text": [
      "int_val = 3\n",
      "float_val = 1.2\n",
      "str_val = hello\n",
      "bool_val = True\n"
     ]
    }
   ],
   "source": [
    "# 整形\n",
    "int_val = 3\n",
    "\n",
    "# 浮点型\n",
    "float_val = 1.2\n",
    "\n",
    "# 字符串\n",
    "str_val = 'hello'\n",
    "\n",
    "# 布尔型\n",
    "bool_val = True\n",
    "\n",
    "# 输出\n",
    "print('int_val = {}'.format(int_val))\n",
    "print('float_val = {}'.format(float_val))\n",
    "print('str_val = {}'.format(str_val))\n",
    "print('bool_val = {}'.format(bool_val))"
   ]
  },
  {
   "cell_type": "markdown",
   "metadata": {},
   "source": [
    "####  算数运算符"
   ]
  },
  {
   "cell_type": "code",
   "execution_count": 5,
   "metadata": {},
   "outputs": [
    {
     "name": "stdout",
     "output_type": "stream",
     "text": [
      "7\n",
      "3\n",
      "10\n",
      "2\n",
      "2.5\n",
      "1\n",
      "25\n"
     ]
    }
   ],
   "source": [
    "int_val1 = 5\n",
    "int_val2 = 2\n",
    "\n",
    "# 加\n",
    "print(int_val1 + int_val2)\n",
    "\n",
    "# 减\n",
    "print(int_val1 - int_val2)\n",
    "\n",
    "# 乘\n",
    "print(int_val1 * int_val2)\n",
    "\n",
    "# 整除\n",
    "print(int_val1 // int_val2)\n",
    "\n",
    "# 除\n",
    "print(int_val1 / int_val2)\n",
    "\n",
    "# 取余\n",
    "print(int_val1 % int_val2)\n",
    "\n",
    "# 取幂\n",
    "print(int_val1 ** int_val2)"
   ]
  },
  {
   "cell_type": "markdown",
   "metadata": {},
   "source": [
    "####   比较"
   ]
  },
  {
   "cell_type": "code",
   "execution_count": 6,
   "metadata": {},
   "outputs": [
    {
     "name": "stdout",
     "output_type": "stream",
     "text": [
      "int_val1 == 99: True\n",
      "int_val1 == float_val1: True\n",
      "int_val1 == str_val1: False\n"
     ]
    }
   ],
   "source": [
    "int_val1 = 99\n",
    "float_val1 = 99.0\n",
    "str_val1 = '99'\n",
    "\n",
    "# 整形比较\n",
    "if int_val1 == 99:\n",
    "    print('int_val1 == 99: {}'.format(True))\n",
    "    \n",
    "else:\n",
    "    print('int_val1 == 99: {}'.format(False))\n",
    "    \n",
    "# 整形与浮点型比较\n",
    "if int_val1 == float_val1:\n",
    "    print('int_val1 == float_val1: {}'.format(True))\n",
    "    \n",
    "else:\n",
    "    print('int_val1 == float_val1: {}'.format(False))\n",
    "    \n",
    "# 整形与字符串比较\n",
    "if int_val1 == str_val1:\n",
    "    print('int_val1 == str_val1: {}'.format(True))\n",
    "    \n",
    "else:\n",
    "    print('int_val1 == str_val1: {}'.format(False))\n",
    "    "
   ]
  },
  {
   "cell_type": "markdown",
   "metadata": {},
   "source": [
    "####   列表, 元组, 集合, 字典\n",
    "-   列表: 可变, 无序, 通过索引访问元素.\n",
    "-   元祖: 不可变, 有序, 通过索引访问元素.\n",
    "-   集合: 可变, 无序, 通过索引访问, 主要用于列表去重排序.\n",
    "-   字典: 可变, 无序, 通过key(键)访问, 主要用于唯一键到值的映射."
   ]
  },
  {
   "cell_type": "code",
   "execution_count": 18,
   "metadata": {},
   "outputs": [
    {
     "name": "stdout",
     "output_type": "stream",
     "text": [
      "[9, 'a']\n",
      "(5, 2, 7)\n",
      "{0, 3, 5, 7}\n",
      "{'key2': 'val2', 'key3': 'val3', 'key1': 'val1'}\n"
     ]
    }
   ],
   "source": [
    "# 列表\n",
    "list1 = [3, 1, 9]\n",
    "\n",
    "# 元祖\n",
    "tuple1 = (5, 2, 7)\n",
    "\n",
    "# 集合\n",
    "set1 = set([3, 3, 7, 0])\n",
    "\n",
    "# 字典\n",
    "dict1 = {\n",
    "    'key1': 'val1',\n",
    "    'key2': 'val2'\n",
    "}\n",
    "\n",
    "list1[0] = 77\n",
    "list1.append('a')\n",
    "list1.remove(1)\n",
    "del list1[0]\n",
    "# tuple1[0] = 4\n",
    "set1.add(5)\n",
    "dict1['key3'] = 'val3'\n",
    "\n",
    "# 输出\n",
    "print(list1)\n",
    "print(tuple1)\n",
    "print(set1)\n",
    "print(dict1)"
   ]
  },
  {
   "cell_type": "markdown",
   "metadata": {},
   "source": [
    "###   控制流\n",
    "####   if...elif...else..."
   ]
  },
  {
   "cell_type": "code",
   "execution_count": 21,
   "metadata": {},
   "outputs": [
    {
     "name": "stdout",
     "output_type": "stream",
     "text": [
      "a True\n"
     ]
    }
   ],
   "source": [
    "input_val = 'a'\n",
    "if input_val == 'a':\n",
    "    print('a True')\n",
    "    \n",
    "elif input_val == 'abc':\n",
    "    print('abc True')\n",
    "    \n",
    "else:\n",
    "    print('unknown')"
   ]
  },
  {
   "cell_type": "markdown",
   "metadata": {},
   "source": [
    "####   for"
   ]
  },
  {
   "cell_type": "code",
   "execution_count": 23,
   "metadata": {},
   "outputs": [
    {
     "name": "stdout",
     "output_type": "stream",
     "text": [
      "1\n",
      "3\n",
      "6\n",
      "8\n",
      "39\n"
     ]
    }
   ],
   "source": [
    "list_val = [1, 3, 6, 8, 39]\n",
    "for x in list_val:\n",
    "    print(x)\n",
    "    \n",
    "# for i in range(len(list_val)):\n",
    "    # print(list_val[i])"
   ]
  },
  {
   "cell_type": "markdown",
   "metadata": {},
   "source": [
    "####   while"
   ]
  },
  {
   "cell_type": "code",
   "execution_count": 24,
   "metadata": {},
   "outputs": [
    {
     "name": "stdout",
     "output_type": "stream",
     "text": [
      "0\n",
      "1\n",
      "2\n",
      "3\n",
      "4\n"
     ]
    }
   ],
   "source": [
    "i = 0\n",
    "while i < 5:\n",
    "    print(i)\n",
    "    i += 1"
   ]
  },
  {
   "cell_type": "markdown",
   "metadata": {},
   "source": [
    "####   break, continue"
   ]
  },
  {
   "cell_type": "code",
   "execution_count": 26,
   "metadata": {},
   "outputs": [
    {
     "name": "stdout",
     "output_type": "stream",
     "text": [
      "0\n",
      "1\n"
     ]
    }
   ],
   "source": [
    "i = 0\n",
    "while i < 5:\n",
    "    if i < 2:\n",
    "        print(i)\n",
    "        i += 1\n",
    "        continue\n",
    "        print('kkk')\n",
    "        \n",
    "    else:\n",
    "        break"
   ]
  },
  {
   "cell_type": "markdown",
   "metadata": {},
   "source": [
    "####   zip"
   ]
  },
  {
   "cell_type": "code",
   "execution_count": 27,
   "metadata": {},
   "outputs": [
    {
     "name": "stdout",
     "output_type": "stream",
     "text": [
      "(1, 4)\n",
      "(2, 5)\n",
      "(3, 6)\n"
     ]
    }
   ],
   "source": [
    "list1 = [1, 2, 3]\n",
    "list2 = [4, 5, 6]\n",
    "for x in zip(list1, list2):\n",
    "    print(x)"
   ]
  },
  {
   "cell_type": "markdown",
   "metadata": {},
   "source": [
    "####   enumerate"
   ]
  },
  {
   "cell_type": "code",
   "execution_count": 28,
   "metadata": {},
   "outputs": [
    {
     "name": "stdout",
     "output_type": "stream",
     "text": [
      "Index = 0\tVal = hello\n",
      "Index = 1\tVal = world\n",
      "Index = 2\tVal = !\n"
     ]
    }
   ],
   "source": [
    "list1 = ['hello', 'world', '!']\n",
    "for index, val in enumerate(list1):\n",
    "    print('Index = {}\\tVal = {}'.format(index, val))"
   ]
  },
  {
   "cell_type": "markdown",
   "metadata": {},
   "source": [
    "####   列表推导式"
   ]
  },
  {
   "cell_type": "code",
   "execution_count": 30,
   "metadata": {},
   "outputs": [
    {
     "name": "stdout",
     "output_type": "stream",
     "text": [
      "['aa']\n"
     ]
    }
   ],
   "source": [
    "list1 = ['a', 'b', 'c']\n",
    "print([ x*2 for x in list1 if x == 'a' ])"
   ]
  },
  {
   "cell_type": "markdown",
   "metadata": {},
   "source": [
    "###   sample1\n",
    "-   输入一个字符串: 'hello python'\n",
    "-   输出: 'Hello Python'\n",
    "-   两种实现方式: <br>\n",
    "1.字符串方法<br>\n",
    "2.re.split()<br>\n"
   ]
  },
  {
   "cell_type": "code",
   "execution_count": 33,
   "metadata": {},
   "outputs": [
    {
     "name": "stdout",
     "output_type": "stream",
     "text": [
      "Hello Python\n"
     ]
    }
   ],
   "source": [
    "# Input: 'hello python'\n",
    "# Output: 'Hello Python'\n",
    "\n",
    "import re\n",
    "input_str = 'hello python'\n",
    "\n",
    "# print(re.split(r'\\ ', input_str))\n",
    "result = ' '.join([ x.capitalize() for x in re.split(r'\\ ', input_str) ])\n",
    "print(result)\n",
    "# print(input_str.title())"
   ]
  },
  {
   "cell_type": "markdown",
   "metadata": {},
   "source": [
    "###  sample2\n",
    "-   通讯录csv导出文件(emp.csv)格式如下:<br>\n",
    "ID|Name|Sex|Age|Department|Phone<br>\n",
    "1|Kyle|Male|28|Dev|90809809234<br>\n",
    "2|Andy|Male|30|Sal|98734598578<br>\n",
    "3|Kette|Female|24|Dev|99487623483<br>\n",
    "4|Bob|Male|33|Sal|87998665648<br>\n",
    "5|Winnie|Female|29|Sal|99076867898<br>\n",
    "6|Dick|Female|24|Dev|93492349081\n",
    "\n",
    "-   emp.csv下载地址: https://github.com/kylechenoO/AIPND-trial/blob/master/emp.csv\n",
    "-   使用open()函数读取文件内容, 查找并输出Andy的手机号码."
   ]
  },
  {
   "cell_type": "code",
   "execution_count": 44,
   "metadata": {
    "scrolled": true
   },
   "outputs": [
    {
     "name": "stdout",
     "output_type": "stream",
     "text": [
      "['1|Kyle|Male|28|Dev|90809809234', '2|Andy|Male|30|Sal|98734598578', '3|Kette|Female|24|Dev|99487623483', '4|Bob|Male|33|Sal|87998665648', '5|Winnie|Female|29|Sal|99076867898', '6|Dick|Female|24|Dev|93492349081']\n",
      "[['1', 'Kyle', 'Male', '28', 'Dev', '90809809234'], ['2', 'Andy', 'Male', '30', 'Sal', '98734598578'], ['3', 'Kette', 'Female', '24', 'Dev', '99487623483'], ['4', 'Bob', 'Male', '33', 'Sal', '87998665648'], ['5', 'Winnie', 'Female', '29', 'Sal', '99076867898'], ['6', 'Dick', 'Female', '24', 'Dev', '93492349081']]\n",
      "['98734598578']\n"
     ]
    }
   ],
   "source": [
    "# csv电话查找\n",
    "# Input: 'Name'\n",
    "# Output: 'Telephone'\n",
    "FILE_NAME = 'emp.csv'\n",
    "SPLIT = '\\|'\n",
    "with open(FILE_NAME) as fp:\n",
    "    data = fp.read()\n",
    "\n",
    "data_list = re.split(r'\\n', data)\n",
    "\n",
    "del data_list[0]\n",
    "data_list.remove('')\n",
    "print(data_list)\n",
    "\n",
    "# re.sub()\n",
    "data_list = [ re.split(SPLIT, line) for line in data_list ]\n",
    "print(data_list)\n",
    "\n",
    "print([ line[-1] for line in data_list if line[1] == 'Andy' ])"
   ]
  },
  {
   "cell_type": "code",
   "execution_count": null,
   "metadata": {},
   "outputs": [],
   "source": []
  }
 ],
 "metadata": {
  "kernelspec": {
   "display_name": "Python 3",
   "language": "python",
   "name": "python3"
  },
  "language_info": {
   "codemirror_mode": {
    "name": "ipython",
    "version": 3
   },
   "file_extension": ".py",
   "mimetype": "text/x-python",
   "name": "python",
   "nbconvert_exporter": "python",
   "pygments_lexer": "ipython3",
   "version": "3.4.8"
  }
 },
 "nbformat": 4,
 "nbformat_minor": 2
}
